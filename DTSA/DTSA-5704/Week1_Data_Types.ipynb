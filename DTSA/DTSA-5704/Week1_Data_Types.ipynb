{
  "nbformat": 4,
  "nbformat_minor": 0,
  "metadata": {
    "colab": {
      "provenance": [],
      "machine_shape": "hm"
    },
    "kernelspec": {
      "name": "ir",
      "display_name": "R"
    },
    "language_info": {
      "name": "R"
    }
  },
  "cells": [
    {
      "cell_type": "code",
      "source": [
        "#install.packages(\"devtools\")\n",
        "require(devtools)\n",
        "#install_github(\"burrm/lolcat\")\n",
        "require(lolcat)\n",
        "\n",
        "ro <- round.object; nqtr <- function(x,d){noquote(t(round.object(x, d)))}; options(scipen=999)"
      ],
      "metadata": {
        "id": "qBnkDgOj6lAa",
        "collapsed": true
      },
      "execution_count": 7,
      "outputs": []
    },
    {
      "cell_type": "markdown",
      "source": [
        "<table width=\"850\">\n",
        "<td bgcolor=\"#ba2f2a\"><font color=\"white\" size=\"8\"><b>\n",
        "Week1 Data Types\n",
        "</b></font></td></table>"
      ],
      "metadata": {
        "id": "AaW2h3ZuwlvL"
      }
    },
    {
      "cell_type": "markdown",
      "source": [
        "<table width=\"850\">\n",
        "<td bgcolor=\"#d5695d\"><font color=\"white\" size=\"6\"><b>\n",
        "1. Data and Measurement\n",
        "</b></font></td></table>"
      ],
      "metadata": {
        "id": "EPhDXlqtptsz"
      }
    },
    {
      "cell_type": "markdown",
      "source": [
        "<table width=\"850\">\n",
        "<td bgcolor=\"#f8f2e4\"><font color=\"black\" size=\"4\"><b>\n",
        "1.1 Term\n",
        "</b><br><br>\n",
        "1. Meansurement: the Process <br>\n",
        "2. Data: the Output <br>\n",
        "&#10140; Quantitative Data: Continuous <br>\n",
        "&#10140; Qualitative Data: Discrete (Frequencies / Proportions / Rates)    \n",
        "</font></td></table>"
      ],
      "metadata": {
        "id": "SD0irYgg6lRH"
      }
    },
    {
      "cell_type": "markdown",
      "source": [
        "<table width=\"850\">\n",
        "<td bgcolor=\"#f8f2e4\"><font color=\"black\" size=\"4\"><b>\n",
        "1.2 Nominal Scale (Discrete)\n",
        "</b><br><br>\n",
        "&#10140; Numbers are assigned to categorize, identify or name attributes <br><br>\n",
        "1. Zip codes <br>\n",
        "2. Area codes <br>\n",
        "3. Numbers assigned to types of nonconformity in products <br>\n",
        "4. Yes/No, True/False, Success/Failure   \n",
        "</font></td></table>"
      ],
      "metadata": {
        "id": "djez7FooIn6o"
      }
    },
    {
      "cell_type": "markdown",
      "source": [
        "<table width=\"850\">\n",
        "<td bgcolor=\"#f8f2e4\"><font color=\"black\" size=\"4\"><b>\n",
        "1.3 Ordinal Scale (Discrete)\n",
        "</b><br><br>\n",
        "&#10140; Numbers are assigned to the order of the studied property <br><br>\n",
        "1. 5-point scale to measure customer satisfaction <br>\n",
        "2. Letter Grades for Academic performance <br>\n",
        "3. Ratings: assign a subjective score <br>\n",
        "4. Rankings: result from sorting items\n",
        "</font></td></table>"
      ],
      "metadata": {
        "id": "8-ayA-rQIoBV"
      }
    },
    {
      "cell_type": "markdown",
      "source": [
        "<table width=\"850\">\n",
        "<td bgcolor=\"#f8f2e4\"><font color=\"black\" size=\"4\"><b>\n",
        "1.4 Interval Scale (Continuous)\n",
        "</b><br><br>\n",
        "&#10140; Numbers are assigned to represent the studied property with equal intervals along the scale<br><br>\n",
        "1. Temperature measured in degrees Fahrenheit <br>\n",
        "2. Directional distance from a reference point <br>\n",
        "3. Calendar date <br>\n",
        "4. Height above sea level <br>\n",
        "\n",
        "</font></td></table>"
      ],
      "metadata": {
        "id": "WOo7KqUtKF-4"
      }
    },
    {
      "cell_type": "markdown",
      "source": [
        "<table width=\"850\">\n",
        "<td bgcolor=\"#f8f2e4\"><font color=\"black\" size=\"4\"><b>\n",
        "1.5 Ratio Scale (Continuous)\n",
        "</b><br><br>\n",
        "&#10140; Numbers are assigned to represent the studied property with a zero point<br><br>\n",
        "1. Length, height, width, distance <br>\n",
        "2. Volume, weight <br>\n",
        "3. Cycle-time and time-to-repair <br>\n",
        "</font></td></table>"
      ],
      "metadata": {
        "id": "ewGtkQ8LLaWf"
      }
    },
    {
      "cell_type": "markdown",
      "source": [
        "<table width=\"850\">\n",
        "<td bgcolor=\"#f8f2e4\"><font color=\"black\" size=\"4\"><b>\n",
        "1.6 Absolute Scale (Discrete Count)\n",
        "</b><br><br>\n",
        "&#10140; Numbers are assigned to count the numbers of the studied property<br><br>\n",
        "1. The number of defects <br>\n",
        "2. The number of scratches observed <br>\n",
        "3. The number of parts made <br>\n",
        "4. The number of safety accidents <br>\n",
        "5. The number of customer complaints\n",
        "</font></td></table>"
      ],
      "metadata": {
        "id": "gCe7RTzdLabC"
      }
    },
    {
      "cell_type": "markdown",
      "source": [
        "<table width=\"850\">\n",
        "<td bgcolor=\"#d5695d\"><font color=\"white\" size=\"6\"><b>\n",
        "2. Process of Measurement\n",
        "</b></font></td></table>"
      ],
      "metadata": {
        "id": "o_8O4pKYp1_E"
      }
    },
    {
      "cell_type": "markdown",
      "source": [
        "<table width=\"850\">\n",
        "<td bgcolor=\"#f8f2e4\"><font color=\"black\" size=\"4\"><b>\n",
        "2.1 Process Requirement\n",
        "</b><br><br>\n",
        "1. Stability through time, or control <br>\n",
        "2. Reliable and Valid <br>\n",
        "3. Repeatable and Reproducible <br>\n",
        "</font></td></table>"
      ],
      "metadata": {
        "id": "UoyLtxPiNiDa"
      }
    },
    {
      "cell_type": "markdown",
      "source": [
        "<table width=\"850\">\n",
        "<td bgcolor=\"#f8f2e4\"><font color=\"black\" size=\"4\"><b>\n",
        "2.2 Precision vs. Accuracy\n",
        "</b><br><br>\n",
        "1. Reliability in measurement is a measure of the Precision <br>\n",
        "2. Validity in metrology is a measure of the Accuracy  \n",
        "</font></td></table>"
      ],
      "metadata": {
        "id": "0FUCYI5PNimf"
      }
    },
    {
      "cell_type": "markdown",
      "source": [
        "<table width=\"850\">\n",
        "<td bgcolor=\"#f8f2e4\"><font color=\"black\" size=\"4\"><b>\n",
        "2.3 Tools\n",
        "</b><br><br>\n",
        "1. Probability and statistics: to quantify and summarize data <br>\n",
        "2. Control charts: to determine if a process is stable <br>\n",
        "3. Experimental design: <br>\n",
        "&#10140; identify Root Causes of a problem to eliminate it <br>\n",
        "&#10140; identify Special and Common Causes of Variability to optimize the process output\n",
        "</font></td></table>"
      ],
      "metadata": {
        "id": "EXz_CY2eNisR"
      }
    },
    {
      "cell_type": "markdown",
      "source": [
        "<table width=\"850\">\n",
        "<td bgcolor=\"#f8f2e4\"><font color=\"black\" size=\"4\"><b>\n",
        "2.4 Measures of Location (Tendency)\n",
        "</b><br><br>\n",
        "1. Mean <br>\n",
        "2. Median <br>\n",
        "3. Mode   \n",
        "</font></td></table>"
      ],
      "metadata": {
        "id": "zNRMs7_aZg2I"
      }
    },
    {
      "cell_type": "markdown",
      "source": [
        "<table width=\"850\">\n",
        "<td bgcolor=\"#f8f2e4\"><font color=\"black\" size=\"4\"><b>\n",
        "2.5 Measures of Spread (Dispersion)\n",
        "</b><br><br>\n",
        "1. Range <br>\n",
        "2. Standard Deviation <br>\n",
        "3. Variance\n",
        "</font></td></table>"
      ],
      "metadata": {
        "id": "QUjrS-TpZg6i"
      }
    },
    {
      "cell_type": "markdown",
      "source": [
        "<table width=\"850\">\n",
        "<td bgcolor=\"#f8f2e4\"><font color=\"black\" size=\"4\"><b>\n",
        "2.6 Measures of Shape\n",
        "</b><br><br>\n",
        "1. Skewness <br>\n",
        "2. Kurtosis\n",
        "</font></td></table>"
      ],
      "metadata": {
        "id": "oBtyELMQZhCF"
      }
    },
    {
      "cell_type": "markdown",
      "source": [
        "<table width=\"850\">\n",
        "<td bgcolor=\"#f8f2e4\"><font color=\"black\" size=\"4\"><b>\n",
        "2.6 Measures of Time Sequence\n",
        "</b><br><br>\n",
        "1. Stability  \n",
        "</font></td></table>"
      ],
      "metadata": {
        "id": "0g56ZIfnZ3b9"
      }
    },
    {
      "cell_type": "markdown",
      "source": [
        "<table width=\"850\">\n",
        "<td bgcolor=\"#f8f2e4\"><font color=\"black\" size=\"4\"><b>\n",
        "2.8 Measures of Relationship\n",
        "</b><br><br>\n",
        "1. Correlation <br>\n",
        "2. Association  \n",
        "</font></td></table>"
      ],
      "metadata": {
        "id": "5NzqsogsZ3fd"
      }
    },
    {
      "cell_type": "markdown",
      "source": [
        "<table width=\"850\">\n",
        "<td bgcolor=\"#d5695d\"><font color=\"white\" size=\"6\"><b>\n",
        "3. Sampling Concept\n",
        "</b></font></td></table>"
      ],
      "metadata": {
        "id": "kfUp41Rzp2WO"
      }
    },
    {
      "cell_type": "markdown",
      "source": [
        "<table width=\"850\">\n",
        "<td bgcolor=\"#f8f2e4\"><font color=\"black\" size=\"4\"><b>\n",
        "3.1 Populations and Samples\n",
        "</b><br><br>\n",
        "1. Population: Entire Group of Objects <br>\n",
        "2. Sample: a Subgroup of the Population   \n",
        "</font></td></table>"
      ],
      "metadata": {
        "id": "N0wnrVJxNiXK"
      }
    },
    {
      "cell_type": "markdown",
      "source": [
        "<table width=\"850\">\n",
        "<td bgcolor=\"#f8f2e4\"><font color=\"black\" size=\"4\"><b>\n",
        "3.2 Sampling Methods\n",
        "</b><br><br>\n",
        "1. Nonrandom or judgment sampling <br>\n",
        "&#10140; By personal Judgment\n",
        "<br><br>\n",
        "2. Random or probability sampling <br>\n",
        "&#10140; Simple random Sampling: selected by an equal chance <br>\n",
        "&#10140; Systematic random sampling: selected at an interval <br>\n",
        "&#10140; Stratified random sampling: divided into Homogeneous subsets <br>\n",
        "&#10140; Cluster sampling: divided into Heterogeneous clusters\n",
        "</font></td></table>"
      ],
      "metadata": {
        "id": "uIaoARCWa468"
      }
    },
    {
      "cell_type": "markdown",
      "source": [
        "<table width=\"850\">\n",
        "<td bgcolor=\"#f8f2e4\"><font color=\"black\" size=\"4\"><b>\n",
        "3.3 Statistics and Parameters\n",
        "</b><br><br>\n",
        "1. Descriptive Statistics: <br>\n",
        "&#10140; Describe a characteristic of a Sample <br>\n",
        "&#10140; Make inferences about population parameters <br>\n",
        "&#10140; Represented by letters in English\n",
        "<br><br>\n",
        "2. Population parameters: <br>\n",
        "&#10140; Describes a characteristic of the Population <br>\n",
        "&#10140; Represented by Greek letters (with few exceptions)\n",
        "</font></td></table>"
      ],
      "metadata": {
        "id": "MGC5zyYrcu_3"
      }
    },
    {
      "cell_type": "markdown",
      "source": [
        "<table width=\"850\">\n",
        "<td bgcolor=\"#d5695d\"><font color=\"white\" size=\"6\"><b>\n",
        "Quiz\n",
        "</b></font></td></table>"
      ],
      "metadata": {
        "id": "XFpcyMtn1JK4"
      }
    },
    {
      "cell_type": "code",
      "source": [
        "# Data Import\n",
        "airline <- read.csv(\"https://raw.githubusercontent.com/milanfx/Dataset/main/DTSA/DTSA-5704/airline.dat\", sep=\"\\t\")\n",
        "head(airline, 5)"
      ],
      "metadata": {
        "id": "UlyUeXJxkUzD",
        "colab": {
          "base_uri": "https://localhost:8080/",
          "height": 255
        },
        "outputId": "e73ff879-4037-4c5f-bc99-22d553c4d8ff"
      },
      "execution_count": 34,
      "outputs": [
        {
          "output_type": "display_data",
          "data": {
            "text/html": [
              "<table class=\"dataframe\">\n",
              "<caption>A data.frame: 5 × 5</caption>\n",
              "<thead>\n",
              "\t<tr><th></th><th scope=col>Price</th><th scope=col>Number_of_Hours_Late</th><th scope=col>Number_Cancelled_per_Day_per_500</th><th scope=col>Bag_Delivery_Time</th><th scope=col>Number_Lost_Bags</th></tr>\n",
              "\t<tr><th></th><th scope=col>&lt;dbl&gt;</th><th scope=col>&lt;dbl&gt;</th><th scope=col>&lt;int&gt;</th><th scope=col>&lt;dbl&gt;</th><th scope=col>&lt;int&gt;</th></tr>\n",
              "</thead>\n",
              "<tbody>\n",
              "\t<tr><th scope=row>1</th><td>1998.41</td><td>0.419</td><td>53</td><td>25.3954</td><td>2</td></tr>\n",
              "\t<tr><th scope=row>2</th><td>1320.65</td><td>0.370</td><td>63</td><td> 6.8734</td><td>3</td></tr>\n",
              "\t<tr><th scope=row>3</th><td>1914.15</td><td>0.433</td><td>28</td><td> 7.8688</td><td>3</td></tr>\n",
              "\t<tr><th scope=row>4</th><td>1449.18</td><td>0.351</td><td>48</td><td>11.4976</td><td>2</td></tr>\n",
              "\t<tr><th scope=row>5</th><td>1217.93</td><td>0.360</td><td>38</td><td>25.0174</td><td>1</td></tr>\n",
              "</tbody>\n",
              "</table>\n"
            ],
            "text/markdown": "\nA data.frame: 5 × 5\n\n| <!--/--> | Price &lt;dbl&gt; | Number_of_Hours_Late &lt;dbl&gt; | Number_Cancelled_per_Day_per_500 &lt;int&gt; | Bag_Delivery_Time &lt;dbl&gt; | Number_Lost_Bags &lt;int&gt; |\n|---|---|---|---|---|---|\n| 1 | 1998.41 | 0.419 | 53 | 25.3954 | 2 |\n| 2 | 1320.65 | 0.370 | 63 |  6.8734 | 3 |\n| 3 | 1914.15 | 0.433 | 28 |  7.8688 | 3 |\n| 4 | 1449.18 | 0.351 | 48 | 11.4976 | 2 |\n| 5 | 1217.93 | 0.360 | 38 | 25.0174 | 1 |\n\n",
            "text/latex": "A data.frame: 5 × 5\n\\begin{tabular}{r|lllll}\n  & Price & Number\\_of\\_Hours\\_Late & Number\\_Cancelled\\_per\\_Day\\_per\\_500 & Bag\\_Delivery\\_Time & Number\\_Lost\\_Bags\\\\\n  & <dbl> & <dbl> & <int> & <dbl> & <int>\\\\\n\\hline\n\t1 & 1998.41 & 0.419 & 53 & 25.3954 & 2\\\\\n\t2 & 1320.65 & 0.370 & 63 &  6.8734 & 3\\\\\n\t3 & 1914.15 & 0.433 & 28 &  7.8688 & 3\\\\\n\t4 & 1449.18 & 0.351 & 48 & 11.4976 & 2\\\\\n\t5 & 1217.93 & 0.360 & 38 & 25.0174 & 1\\\\\n\\end{tabular}\n",
            "text/plain": [
              "  Price   Number_of_Hours_Late Number_Cancelled_per_Day_per_500\n",
              "1 1998.41 0.419                53                              \n",
              "2 1320.65 0.370                63                              \n",
              "3 1914.15 0.433                28                              \n",
              "4 1449.18 0.351                48                              \n",
              "5 1217.93 0.360                38                              \n",
              "  Bag_Delivery_Time Number_Lost_Bags\n",
              "1 25.3954           2               \n",
              "2  6.8734           3               \n",
              "3  7.8688           3               \n",
              "4 11.4976           2               \n",
              "5 25.0174           1               "
            ]
          },
          "metadata": {}
        }
      ]
    },
    {
      "cell_type": "code",
      "source": [
        "# Distribution\n",
        "ro(summary(airline), 2)"
      ],
      "metadata": {
        "colab": {
          "base_uri": "https://localhost:8080/",
          "height": 295
        },
        "id": "2czIzkUukUkE",
        "outputId": "5ccab347-3983-4aca-efe0-a19aa66a2712"
      },
      "execution_count": 40,
      "outputs": [
        {
          "output_type": "display_data",
          "data": {
            "text/plain": [
              "     Price        Number_of_Hours_Late Number_Cancelled_per_Day_per_500\n",
              " Min.   : 609.5   Min.   :0.3070       Min.   : 18.00                  \n",
              " 1st Qu.:1437.6   1st Qu.:0.3900       1st Qu.: 43.00                  \n",
              " Median :1622.7   Median :0.4120       Median : 48.00                  \n",
              " Mean   :1622.1   Mean   :0.4134       Mean   : 51.07                  \n",
              " 3rd Qu.:1808.5   3rd Qu.:0.4350       3rd Qu.: 63.00                  \n",
              " Max.   :2734.6   Max.   :0.5530       Max.   :113.00                  \n",
              "                  NA's   :2000         NA's   :4950                    \n",
              " Bag_Delivery_Time Number_Lost_Bags\n",
              " Min.   : 6.760    Min.   :0.00    \n",
              " 1st Qu.: 7.951    1st Qu.:1.00    \n",
              " Median :13.123    Median :2.00    \n",
              " Mean   :15.843    Mean   :2.28    \n",
              " 3rd Qu.:21.370    3rd Qu.:3.00    \n",
              " Max.   :49.134    Max.   :7.00    \n",
              " NA's   :5325      NA's   :5350    "
            ]
          },
          "metadata": {}
        }
      ]
    },
    {
      "cell_type": "code",
      "source": [
        "# Statistic\n",
        "t(round.object(summary.continuous(airline, stat.sd=T),2))"
      ],
      "metadata": {
        "colab": {
          "base_uri": "https://localhost:8080/",
          "height": 380
        },
        "id": "fpXRGuS6iu7z",
        "outputId": "d4a69e09-3e90-4590-ef52-d556d3de36bc"
      },
      "execution_count": 36,
      "outputs": [
        {
          "output_type": "display_data",
          "data": {
            "text/html": [
              "<table class=\"dataframe\">\n",
              "<caption>A matrix: 10 × 5 of type chr</caption>\n",
              "<thead>\n",
              "\t<tr><th></th><th scope=col>1</th><th scope=col>2</th><th scope=col>3</th><th scope=col>4</th><th scope=col>5</th></tr>\n",
              "</thead>\n",
              "<tbody>\n",
              "\t<tr><th scope=row>dv.name</th><td>Price   </td><td>Number_of_Hours_Late</td><td>Number_Cancelled_per_Day_per_500</td><td>Bag_Delivery_Time</td><td>Number_Lost_Bags</td></tr>\n",
              "\t<tr><th scope=row>n</th><td>5400    </td><td>3400                </td><td> 450                            </td><td>  75             </td><td>  50            </td></tr>\n",
              "\t<tr><th scope=row>missing</th><td>   0    </td><td>2000                </td><td>4950                            </td><td>5325             </td><td>5350            </td></tr>\n",
              "\t<tr><th scope=row>mean</th><td>1622.11 </td><td>   0.41             </td><td>  51.07                         </td><td>  15.84          </td><td>   2.28         </td></tr>\n",
              "\t<tr><th scope=row>var</th><td>76308.85</td><td>    0.00            </td><td>  184.78                        </td><td>   82.79         </td><td>    2.70        </td></tr>\n",
              "\t<tr><th scope=row>sd</th><td>276.24  </td><td>  0.03              </td><td> 13.59                          </td><td>  9.10           </td><td>  1.64          </td></tr>\n",
              "\t<tr><th scope=row>g3.skewness</th><td>-0.03   </td><td> 0.26               </td><td> 0.34                           </td><td> 1.23            </td><td> 0.88           </td></tr>\n",
              "\t<tr><th scope=row>g3test.p</th><td>0.45    </td><td>0.00                </td><td>0.00                            </td><td>0.00             </td><td>0.01            </td></tr>\n",
              "\t<tr><th scope=row>g4.kurtosis</th><td>0.03    </td><td>0.09                </td><td>0.54                            </td><td>1.49             </td><td>0.62            </td></tr>\n",
              "\t<tr><th scope=row>g4test.p</th><td>0.64    </td><td>0.29                </td><td>0.04                            </td><td>0.04             </td><td>0.30            </td></tr>\n",
              "</tbody>\n",
              "</table>\n"
            ],
            "text/markdown": "\nA matrix: 10 × 5 of type chr\n\n| <!--/--> | 1 | 2 | 3 | 4 | 5 |\n|---|---|---|---|---|---|\n| dv.name | Price    | Number_of_Hours_Late | Number_Cancelled_per_Day_per_500 | Bag_Delivery_Time | Number_Lost_Bags |\n| n | 5400     | 3400                 |  450                             |   75              |   50             |\n| missing |    0     | 2000                 | 4950                             | 5325              | 5350             |\n| mean | 1622.11  |    0.41              |   51.07                          |   15.84           |    2.28          |\n| var | 76308.85 |     0.00             |   184.78                         |    82.79          |     2.70         |\n| sd | 276.24   |   0.03               |  13.59                           |   9.10            |   1.64           |\n| g3.skewness | -0.03    |  0.26                |  0.34                            |  1.23             |  0.88            |\n| g3test.p | 0.45     | 0.00                 | 0.00                             | 0.00              | 0.01             |\n| g4.kurtosis | 0.03     | 0.09                 | 0.54                             | 1.49              | 0.62             |\n| g4test.p | 0.64     | 0.29                 | 0.04                             | 0.04              | 0.30             |\n\n",
            "text/latex": "A matrix: 10 × 5 of type chr\n\\begin{tabular}{r|lllll}\n  & 1 & 2 & 3 & 4 & 5\\\\\n\\hline\n\tdv.name & Price    & Number\\_of\\_Hours\\_Late & Number\\_Cancelled\\_per\\_Day\\_per\\_500 & Bag\\_Delivery\\_Time & Number\\_Lost\\_Bags\\\\\n\tn & 5400     & 3400                 &  450                             &   75              &   50            \\\\\n\tmissing &    0     & 2000                 & 4950                             & 5325              & 5350            \\\\\n\tmean & 1622.11  &    0.41              &   51.07                          &   15.84           &    2.28         \\\\\n\tvar & 76308.85 &     0.00             &   184.78                         &    82.79          &     2.70        \\\\\n\tsd & 276.24   &   0.03               &  13.59                           &   9.10            &   1.64          \\\\\n\tg3.skewness & -0.03    &  0.26                &  0.34                            &  1.23             &  0.88           \\\\\n\tg3test.p & 0.45     & 0.00                 & 0.00                             & 0.00              & 0.01            \\\\\n\tg4.kurtosis & 0.03     & 0.09                 & 0.54                             & 1.49              & 0.62            \\\\\n\tg4test.p & 0.64     & 0.29                 & 0.04                             & 0.04              & 0.30            \\\\\n\\end{tabular}\n",
            "text/plain": [
              "            1        2                    3                               \n",
              "dv.name     Price    Number_of_Hours_Late Number_Cancelled_per_Day_per_500\n",
              "n           5400     3400                  450                            \n",
              "missing        0     2000                 4950                            \n",
              "mean        1622.11     0.41                51.07                         \n",
              "var         76308.85     0.00               184.78                        \n",
              "sd          276.24     0.03                13.59                          \n",
              "g3.skewness -0.03     0.26                 0.34                           \n",
              "g3test.p    0.45     0.00                 0.00                            \n",
              "g4.kurtosis 0.03     0.09                 0.54                            \n",
              "g4test.p    0.64     0.29                 0.04                            \n",
              "            4                 5               \n",
              "dv.name     Bag_Delivery_Time Number_Lost_Bags\n",
              "n             75                50            \n",
              "missing     5325              5350            \n",
              "mean          15.84              2.28         \n",
              "var            82.79              2.70        \n",
              "sd            9.10              1.64          \n",
              "g3.skewness  1.23              0.88           \n",
              "g3test.p    0.00              0.01            \n",
              "g4.kurtosis 1.49              0.62            \n",
              "g4test.p    0.04              0.30            "
            ]
          },
          "metadata": {}
        }
      ]
    },
    {
      "cell_type": "code",
      "source": [
        "# Plots\n",
        "options(repr.plot.width = 15, repr.plot.height = 8)\n",
        "par(mfrow = c(2, 3))\n",
        "\n",
        "hist(airline$Price, main = \"Price Histogram\", xlab = \"Price\")\n",
        "hist(airline$Number_of_Hours_Late, main = \"Hours Late Histogram\", xlab = \"Hours Late\")\n",
        "hist(airline$Number_Cancelled_per_Day_per_500, main = \"Cancelled per Day Histogram\", xlab = \"Cancelled per Day\")\n",
        "hist(airline$Bag_Delivery_Time, main = \"Bag Delivery Time Histogram\", xlab = \"Bag Delivery Time\")\n",
        "hist(airline$Number_Lost_Bags, main = \"Number of Lost Bags Histogram\", xlab = \"Number of Lost Bags\")"
      ],
      "metadata": {
        "colab": {
          "base_uri": "https://localhost:8080/",
          "height": 497
        },
        "id": "I9AlNv2UhHzP",
        "outputId": "fcecc8ef-3f96-4a2b-88cf-49b05d8b3bdd"
      },
      "execution_count": 39,
      "outputs": [
        {
          "output_type": "display_data",
          "data": {
            "text/plain": [
              "Plot with title “Number of Lost Bags Histogram”"
            ],
            "image/png": "[encoded data removed]"
          },
          "metadata": {
            "image/png": {
              "width": 900,
              "height": 480
            }
          }
        }
      ]
    },
    {
      "cell_type": "markdown",
      "source": [
        "Test:\n",
        "- Q1: Price is Ratio\n",
        "- Q2: Cancelled is Absolute\n",
        "- Q3: Time is Ratio\n",
        "- Q4: Lost is Absolute\n"
      ],
      "metadata": {
        "id": "d-S8wqyHjVxY"
      }
    },
    {
      "cell_type": "markdown",
      "source": [
        "Quiz:\n",
        "- Q1: Measurement is Process / Data is Output, Not Same\n",
        "- Q2: Qualitative refers to discrete / Quantitative refers to continuous\n",
        "- Q3: Interval represent uniform differences, Ordinal may not\n",
        "- Q4: Ratio : 0 means absence of occurance\n",
        "- Q5: Switch position: Nominal\n",
        "- Q6: Degrees Centigrade: Interval\n",
        "- Q7: Number of Days: Absolute\n",
        "- Q8: Rating Scale: Ordinal\n",
        "- Q9: Can strength: Ratio\n",
        "- Q10: <-"
      ],
      "metadata": {
        "id": "mcsuKf7RlFmA"
      }
    },
    {
      "cell_type": "code",
      "source": [],
      "metadata": {
        "id": "IFsI5TC2mAaV"
      },
      "execution_count": null,
      "outputs": []
    }
  ]
}