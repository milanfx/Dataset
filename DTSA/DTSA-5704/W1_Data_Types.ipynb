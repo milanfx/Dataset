{
  "nbformat": 4,
  "nbformat_minor": 0,
  "metadata": {
    "colab": {
      "provenance": [],
      "machine_shape": "hm"
    },
    "kernelspec": {
      "name": "ir",
      "display_name": "R"
    },
    "language_info": {
      "name": "R"
    }
  },
  "cells": [
    {
      "cell_type": "code",
      "source": [
        "# @title\n",
        "install.packages(\"devtools\"); require(devtools)\n",
        "install_github(\"burrm/lolcat\"); require(lolcat)\n",
        "\n",
        "ro <- round.object; nqtr <- function(x,d){noquote(t(round.object(x, d)))}; options(scipen=999)"
      ],
      "metadata": {
        "id": "qBnkDgOj6lAa",
        "colab": {
          "base_uri": "https://localhost:8080/"
        },
        "collapsed": true,
        "cellView": "form",
        "outputId": "93b3bc65-3c43-404e-e09e-8915716b1e17"
      },
      "execution_count": null,
      "outputs": [
        {
          "output_type": "stream",
          "name": "stderr",
          "text": [
            "Installing package into ‘/usr/local/lib/R/site-library’\n",
            "(as ‘lib’ is unspecified)\n",
            "\n",
            "Skipping install of 'lolcat' from a github remote, the SHA1 (a42620f0) has not changed since last install.\n",
            "  Use `force = TRUE` to force installation\n",
            "\n"
          ]
        }
      ]
    },
    {
      "cell_type": "markdown",
      "source": [
        "<table width=1400><td bgcolor=\"#ba2f2a\"><font color=\"white\" size=\"8\"><b>\n",
        "W1: Data Types\n",
        "</b></font></td></table>"
      ],
      "metadata": {
        "id": "AaW2h3ZuwlvL"
      }
    },
    {
      "cell_type": "markdown",
      "source": [
        "<table width=1400><td bgcolor=\"#d5695d\"><font color=\"white\" size=\"6\"><b>\n",
        "1. Process Variation\n",
        "</b></font></td></table>\n"
      ],
      "metadata": {
        "id": "EPhDXlqtptsz"
      }
    },
    {
      "cell_type": "markdown",
      "source": [
        "<table width=\"1400\"><td bgcolor=\"#f8f2e4\"><font color=\"black\" size=\"4\"><b>\n",
        "1.1 What is a Process\n",
        "</b>\n",
        "\n",
        "&#10140; All personnel, equipment, materials, methods, procedures, and environmental characteristics that interact to produce an output.         \n",
        "</font></td></table>"
      ],
      "metadata": {
        "id": "SD0irYgg6lRH"
      }
    },
    {
      "cell_type": "markdown",
      "source": [
        "<table width=1400><td bgcolor=\"#d5695d\"><font color=\"white\" size=\"6\"><b>\n",
        "2. Common and Special Cause Variation\n",
        "</b></font></td></table>"
      ],
      "metadata": {
        "id": "o_8O4pKYp1_E"
      }
    },
    {
      "cell_type": "markdown",
      "source": [
        "<table width=\"1400\"><td bgcolor=\"#f8f2e4\"><font color=\"black\" size=\"4\"><b>\n",
        "2.1 Common Causes of Variation\n",
        "</b>\n",
        "\n",
        "&#10140; The sources of variation that <b>produce an observable distribution </b> are referred to in Statistical Process Control as common causes of variability.\n",
        "</font></td></table>"
      ],
      "metadata": {
        "id": "Dxa3UMnbp2Gk"
      }
    },
    {
      "cell_type": "markdown",
      "source": [
        "<table width=1400><td bgcolor=\"#d5695d\"><font color=\"white\" size=\"6\"><b>\n",
        "3. Purpose of a Control Chart\n",
        "</b></font></td></table>"
      ],
      "metadata": {
        "id": "kfUp41Rzp2WO"
      }
    },
    {
      "cell_type": "markdown",
      "source": [
        "<table width=\"1400\"><td bgcolor=\"#f8f2e4\"><font color=\"black\" size=\"4\"><b>\n",
        "3.2 Primary Purpose of a Control Chart   \n",
        "</b>\n",
        "\n",
        "&#10140; Distingush between common and special causes of variation        \n",
        "</font></td></table>"
      ],
      "metadata": {
        "id": "YTaOJcKw1IwX"
      }
    },
    {
      "cell_type": "markdown",
      "source": [
        "<table width=1400><td bgcolor=\"#d5695d\"><font color=\"white\" size=\"6\"><b>\n",
        "4. Conformance Quality\n",
        "</b></font></td></table>"
      ],
      "metadata": {
        "id": "pLVLNASx1I9q"
      }
    },
    {
      "cell_type": "markdown",
      "source": [
        "<table width=\"1400\"><td bgcolor=\"#f8f2e4\"><font color=\"black\" size=\"4\"><b>\n",
        "1.1    \n",
        "</b>\n",
        "\n",
        "&#10140;        \n",
        "</font></td></table>"
      ],
      "metadata": {
        "id": "mcnFAcT729oY"
      }
    },
    {
      "cell_type": "markdown",
      "source": [
        "<table width=1400><td bgcolor=\"#d5695d\"><font color=\"white\" size=\"6\"><b>\n",
        "5. The Product and Process Control Cycles\n",
        "</b></font></td></table>"
      ],
      "metadata": {
        "id": "XFpcyMtn1JK4"
      }
    }
  ]
}